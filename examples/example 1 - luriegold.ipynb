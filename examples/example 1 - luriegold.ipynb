{
 "cells": [
  {
   "cell_type": "code",
   "execution_count": 1,
   "metadata": {
    "ExecuteTime": {
     "end_time": "2018-08-10T20:36:18.078180Z",
     "start_time": "2018-08-10T20:36:17.682269Z"
    }
   },
   "outputs": [],
   "source": [
    "import sys\n",
    "sys.path.append('..')"
   ]
  },
  {
   "cell_type": "markdown",
   "metadata": {},
   "source": [
    "# Lurie-Goldberg Algorithm"
   ]
  },
  {
   "cell_type": "code",
   "execution_count": 2,
   "metadata": {
    "ExecuteTime": {
     "end_time": "2018-08-10T20:36:18.078180Z",
     "start_time": "2018-08-10T20:36:17.682269Z"
    }
   },
   "outputs": [
    {
     "name": "stdout",
     "output_type": "stream",
     "text": [
      "[[ 1.    -0.885  0.128 -0.138]\n",
      " [-0.885  1.    -0.555  0.228]\n",
      " [ 0.128 -0.555  1.     0.053]\n",
      " [-0.138  0.228  0.053  1.   ]]\n"
     ]
    }
   ],
   "source": [
    "import scipy_psdm as psdm\n",
    "import numpy as np\n",
    "\n",
    "# A matrix with subjectively set correlations\n",
    "mat = [[ 1.   , -0.948,  0.099, -0.129],\n",
    "       [-0.948,  1.   , -0.591,  0.239],\n",
    "       [ 0.099, -0.591,  1.   ,  0.058],\n",
    "       [-0.129,  0.239,  0.058,  1.   ]]\n",
    "mat = np.array(mat)\n",
    "\n",
    "# Convert to a positive semi-definite matrix\n",
    "rho = psdm.luriegold(mat)\n",
    "print(rho.round(3))"
   ]
  },
  {
   "cell_type": "code",
   "execution_count": 3,
   "metadata": {},
   "outputs": [
    {
     "data": {
      "text/plain": [
       "True"
      ]
     },
     "execution_count": 3,
     "metadata": {},
     "output_type": "execute_result"
    }
   ],
   "source": [
    "np.allclose(np.diag(rho), 1.0)"
   ]
  },
  {
   "cell_type": "code",
   "execution_count": 4,
   "metadata": {},
   "outputs": [
    {
     "name": "stdout",
     "output_type": "stream",
     "text": [
      "[[0.    0.063 0.029 0.009]\n",
      " [0.063 0.    0.036 0.011]\n",
      " [0.029 0.036 0.    0.005]\n",
      " [0.009 0.011 0.005 0.   ]]\n"
     ]
    }
   ],
   "source": [
    "# difference\n",
    "print(np.abs(mat - rho).round(3))"
   ]
  }
 ],
 "metadata": {
  "kernelspec": {
   "display_name": "Python 3",
   "language": "python",
   "name": "python3"
  },
  "language_info": {
   "codemirror_mode": {
    "name": "ipython",
    "version": 3
   },
   "file_extension": ".py",
   "mimetype": "text/x-python",
   "name": "python",
   "nbconvert_exporter": "python",
   "pygments_lexer": "ipython3",
   "version": "3.6.3"
  },
  "varInspector": {
   "cols": {
    "lenName": 16,
    "lenType": 16,
    "lenVar": 40
   },
   "kernels_config": {
    "python": {
     "delete_cmd_postfix": "",
     "delete_cmd_prefix": "del ",
     "library": "var_list.py",
     "varRefreshCmd": "print(var_dic_list())"
    },
    "r": {
     "delete_cmd_postfix": ") ",
     "delete_cmd_prefix": "rm(",
     "library": "var_list.r",
     "varRefreshCmd": "cat(var_dic_list()) "
    }
   },
   "types_to_exclude": [
    "module",
    "function",
    "builtin_function_or_method",
    "instance",
    "_Feature"
   ],
   "window_display": false
  }
 },
 "nbformat": 4,
 "nbformat_minor": 4
}
