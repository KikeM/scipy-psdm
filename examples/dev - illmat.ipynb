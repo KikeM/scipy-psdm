{
 "cells": [
  {
   "cell_type": "code",
   "execution_count": 1,
   "metadata": {},
   "outputs": [],
   "source": [
    "import numpy as np\n",
    "import time"
   ]
  },
  {
   "cell_type": "code",
   "execution_count": 2,
   "metadata": {},
   "outputs": [],
   "source": [
    "def fun1(n_dim, random_state=None):\n",
    "    if random_state:\n",
    "        np.random.seed(random_state)\n",
    "    tmp = np.random.uniform(low=0.0, high=1.0, size=(n_dim, n_dim))\n",
    "    tmp = np.minimum(1., np.maximum(-1., 2 * tmp - 1.0))\n",
    "    tmp = np.triu(tmp, k=1)\n",
    "    return np.eye(n_dim) + tmp + tmp.T\n",
    "\n",
    "\n",
    "def fun2(n_dim, random_state=None):\n",
    "    if random_state:\n",
    "        np.random.seed(random_state)\n",
    "    tmp = np.random.uniform(low=-1.0, high=1.0, size=(n_dim, n_dim))\n",
    "    tmp = np.triu(tmp, k=1)\n",
    "    return np.eye(n_dim) + tmp + tmp.T\n",
    "\n",
    "\n",
    "def fun3(n_dim, random_state=None):\n",
    "    if random_state:\n",
    "        np.random.seed(random_state)\n",
    "    # tril/triu sparsity pattern\n",
    "    spat = np.array([(i, j) for i in range(n_dim) for j in range(i + 1, n_dim)])\n",
    "    idx_triu = (spat[:, 0], spat[:, 1])\n",
    "    idx_tril = (spat[:, 1], spat[:, 0])\n",
    "    # generate random elements\n",
    "    n_elem = int(n_dim * (n_dim - 1) / 2)\n",
    "    uni = np.random.uniform(low=-1.0, high=1.0, size=(n_elem, ))\n",
    "    # assign to matrix\n",
    "    mat = np.ones(shape=(n_dim, n_dim))\n",
    "    mat[idx_triu] = uni\n",
    "    mat[idx_tril] = uni\n",
    "    return mat"
   ]
  },
  {
   "cell_type": "code",
   "execution_count": 3,
   "metadata": {},
   "outputs": [],
   "source": [
    "funcnames = [fun1, fun2, fun3]"
   ]
  },
  {
   "cell_type": "code",
   "execution_count": 4,
   "metadata": {},
   "outputs": [
    {
     "name": "stdout",
     "output_type": "stream",
     "text": [
      "Clock  CPU    function name\n",
      "0.0775 0.0682 fun1\n",
      "0.0347 0.0314 fun2\n",
      "0.4532 0.4519 fun3\n"
     ]
    }
   ],
   "source": [
    "print('{0:6s} {1:6s} {2:s}'.format('Clock', 'CPU', 'function name'))\n",
    "for func in funcnames:\n",
    "    sh, sc = time.perf_counter(), time.process_time();\n",
    "    mat = func(n_dim=1000, random_state=42); \n",
    "    eh, ec = time.perf_counter(), time.process_time()\n",
    "    print('{0:.4f} {1:.4f} {2:s}'.format(eh-sh, ec-sc, func.__name__))"
   ]
  },
  {
   "cell_type": "code",
   "execution_count": 5,
   "metadata": {},
   "outputs": [
    {
     "name": "stdout",
     "output_type": "stream",
     "text": [
      "Clock   CPU     function name\n",
      " 3.5068  3.4984 fun1\n",
      " 2.5003  2.4963 fun2\n",
      "99.1126 52.9385 fun3\n"
     ]
    }
   ],
   "source": [
    "n_trials = 100\n",
    "print('{0:7s} {1:7s} {2:s}'.format('Clock', 'CPU', 'function name'))\n",
    "for func in funcnames:\n",
    "    sh, sc = time.perf_counter(), time.process_time();\n",
    "    for i in range(n_trials):\n",
    "        mat = func(n_dim=1000, random_state=42); \n",
    "    eh, ec = time.perf_counter(), time.process_time()\n",
    "    print('{0:7.4f} {1:7.4f} {2:s}'.format(eh-sh, ec-sc, func.__name__))"
   ]
  }
 ],
 "metadata": {
  "kernelspec": {
   "display_name": "Python 3",
   "language": "python",
   "name": "python3"
  },
  "language_info": {
   "codemirror_mode": {
    "name": "ipython",
    "version": 3
   },
   "file_extension": ".py",
   "mimetype": "text/x-python",
   "name": "python",
   "nbconvert_exporter": "python",
   "pygments_lexer": "ipython3",
   "version": "3.6.3"
  }
 },
 "nbformat": 4,
 "nbformat_minor": 4
}
